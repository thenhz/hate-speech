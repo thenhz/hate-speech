{
 "cells": [
  {
   "cell_type": "code",
   "execution_count": 31,
   "metadata": {},
   "outputs": [
    {
     "name": "stderr",
     "output_type": "stream",
     "text": [
      "/home/thenhz/anaconda3/envs/nlp36/lib/python3.6/site-packages/sklearn/ensemble/weight_boosting.py:29: DeprecationWarning: numpy.core.umath_tests is an internal NumPy module and should not be imported. It will be removed in a future NumPy release.\n",
      "  from numpy.core.umath_tests import inner1d\n"
     ]
    }
   ],
   "source": [
    "import pandas as pd\n",
    "import numpy as np\n",
    "import pickle\n",
    "import sys\n",
    "from sklearn.feature_extraction.text import TfidfVectorizer\n",
    "import nltk\n",
    "from nltk.stem.snowball import *\n",
    "import string\n",
    "import re\n",
    "#from vaderSentiment.vaderSentiment import SentimentIntensityAnalyzer as VS\n",
    "from textstat.textstat import *\n",
    "from sklearn.linear_model import LogisticRegression\n",
    "from sklearn.ensemble import RandomForestClassifier\n",
    "from sklearn.feature_selection import SelectFromModel\n",
    "from sklearn.metrics import classification_report\n",
    "from sklearn.svm import LinearSVC\n",
    "import matplotlib.pyplot as plt\n",
    "import seaborn\n",
    "%matplotlib inline"
   ]
  },
  {
   "cell_type": "code",
   "execution_count": 2,
   "metadata": {},
   "outputs": [
    {
     "name": "stdout",
     "output_type": "stream",
     "text": [
      "data file loaded..\n"
     ]
    }
   ],
   "source": [
    "from nltk.corpus import stopwords\n",
    "\n",
    "tw_data = pd.read_csv('data/hate-speech/haspeede_TW-train.tsv', sep='\\t', names=['text','sentiment'])\n",
    "fb_data = pd.read_csv('data/hate-speech/haspeede_FB-train.tsv', sep='\\t', names=['text','sentiment'])\n",
    "ami_data = pd.read_csv('data/hate-speech/it_training.tsv', sep='\\t', header=0)\n",
    "ami_data = ami_data[['text','misogynous']].copy()\n",
    "ami_data.columns = ['text','sentiment']\n",
    "data = pd.concat([tw_data])\n",
    "print(\"data file loaded..\")"
   ]
  },
  {
   "cell_type": "code",
   "execution_count": 4,
   "metadata": {},
   "outputs": [],
   "source": [
    "stopwords=stopwords.words('italian')\n",
    "\n",
    "other_exclusions = [\"#ff\", \"ff\", \"rt\"]\n",
    "stopwords.extend(other_exclusions)\n",
    "\n",
    "stemmer = ItalianStemmer()\n",
    "\n",
    "\n",
    "def preprocess(text_string):\n",
    "    \"\"\"\n",
    "    Accepts a text string and replaces:\n",
    "    1) urls with URLHERE\n",
    "    2) lots of whitespace with one instance\n",
    "    3) mentions with MENTIONHERE\n",
    "\n",
    "    This allows us to get standardized counts of urls and mentions\n",
    "    Without caring about specific people mentioned\n",
    "    \"\"\"\n",
    "    space_pattern = '\\s+'\n",
    "    giant_url_regex = ('http[s]?://(?:[a-zA-Z]|[0-9]|[$-_@.&+]|'\n",
    "        '[!*\\(\\),]|(?:%[0-9a-fA-F][0-9a-fA-F]))+')\n",
    "    mention_regex = '@[\\w\\-]+'\n",
    "    parsed_text = re.sub(space_pattern, ' ', text_string)\n",
    "    parsed_text = re.sub(giant_url_regex, '', parsed_text)\n",
    "    parsed_text = re.sub(mention_regex, '', parsed_text)\n",
    "    return parsed_text\n",
    "\n",
    "def tokenize(tweet):\n",
    "    \"\"\"Removes punctuation & excess whitespace, sets to lowercase,\n",
    "    and stems tweets. Returns a list of stemmed tokens.\"\"\"\n",
    "    tweet = \" \".join(re.split(\"[^a-zA-Z]*\", tweet.lower())).strip()\n",
    "    tokens = [stemmer.stem(t) for t in tweet.split()]\n",
    "    return tokens\n",
    "\n",
    "def basic_tokenize(tweet):\n",
    "    \"\"\"Same as tokenize but without the stemming\"\"\"\n",
    "    tweet = \" \".join(re.split(\"[^a-zA-Z.,!?]*\", tweet.lower())).strip()\n",
    "    return tweet.split()\n",
    "\n",
    "vectorizer = TfidfVectorizer(\n",
    "    tokenizer=tokenize,\n",
    "    preprocessor=preprocess,\n",
    "    ngram_range=(1, 3),\n",
    "    stop_words=stopwords,\n",
    "    use_idf=True,\n",
    "    smooth_idf=False,\n",
    "    norm=None,\n",
    "    decode_error='replace',\n",
    "    max_features=10000,\n",
    "    min_df=5,\n",
    "    max_df=0.75\n",
    "    )"
   ]
  },
  {
   "cell_type": "code",
   "execution_count": 80,
   "metadata": {},
   "outputs": [
    {
     "data": {
      "text/plain": [
       "['cia', 'a', 'tutt', 'dovre', 'andar', 'a', 'cas']"
      ]
     },
     "execution_count": 80,
     "metadata": {},
     "output_type": "execute_result"
    }
   ],
   "source": [
    "tokenize(\"Ciao a tutti dovrei andare a casa\")"
   ]
  },
  {
   "cell_type": "code",
   "execution_count": 5,
   "metadata": {},
   "outputs": [],
   "source": [
    "tweets=data.text"
   ]
  },
  {
   "cell_type": "code",
   "execution_count": 6,
   "metadata": {},
   "outputs": [],
   "source": [
    "import warnings\n",
    "warnings.simplefilter(action='ignore', category=FutureWarning)\n",
    "\n",
    "\n",
    "\n",
    "#Construct tfidf matrix and get relevant scores\n",
    "tfidf = vectorizer.fit_transform(tweets).toarray()\n",
    "vocab = {v:i for i, v in enumerate(vectorizer.get_feature_names())}\n",
    "idf_vals = vectorizer.idf_\n",
    "idf_dict = {i:idf_vals[i] for i in vocab.values()} #keys are indices; values are IDF scores"
   ]
  },
  {
   "cell_type": "code",
   "execution_count": 7,
   "metadata": {},
   "outputs": [],
   "source": [
    "import nltk.data\n",
    "tagger = nltk.data.load(\"taggers/pos-perceptron_aubt.pickle\")\n",
    "\n",
    "#Get POS tags for tweets and save as a string\n",
    "tweet_tags = []\n",
    "for t in tweets:\n",
    "    tokens = basic_tokenize(preprocess(t))\n",
    "    tags = tagger.tag(tokens)\n",
    "    tag_list = [x[1] for x in tags]\n",
    "    tag_str = \" \".join(tag_list)\n",
    "    tweet_tags.append(tag_str)\n"
   ]
  },
  {
   "cell_type": "code",
   "execution_count": 8,
   "metadata": {},
   "outputs": [],
   "source": [
    "#We can use the TFIDF vectorizer to get a token matrix for the POS tags\n",
    "pos_vectorizer = TfidfVectorizer(\n",
    "    tokenizer=None,\n",
    "    lowercase=False,\n",
    "    preprocessor=None,\n",
    "    ngram_range=(1, 3),\n",
    "    stop_words=None,\n",
    "    use_idf=False,\n",
    "    smooth_idf=False,\n",
    "    norm=None,\n",
    "    decode_error='replace',\n",
    "    max_features=5000,\n",
    "    min_df=5,\n",
    "    max_df=0.75,\n",
    "    )"
   ]
  },
  {
   "cell_type": "code",
   "execution_count": 9,
   "metadata": {},
   "outputs": [],
   "source": [
    "#Construct POS TF matrix and get vocab dict\n",
    "pos = pos_vectorizer.fit_transform(pd.Series(tweet_tags)).toarray()\n",
    "pos_vocab = {v:i for i, v in enumerate(pos_vectorizer.get_feature_names())}"
   ]
  },
  {
   "cell_type": "code",
   "execution_count": 10,
   "metadata": {},
   "outputs": [],
   "source": [
    "import xmltodict\n",
    "\n",
    "with open('data/sentiment/it-sentiment_lexicon.lmf.xml') as fd:\n",
    "    doc = xmltodict.parse(fd.read())\n"
   ]
  },
  {
   "cell_type": "code",
   "execution_count": 11,
   "metadata": {},
   "outputs": [
    {
     "data": {
      "text/plain": [
       "OrderedDict([('@score', '0.333333333333'), ('@method', 'automatic')])"
      ]
     },
     "execution_count": 11,
     "metadata": {},
     "output_type": "execute_result"
    }
   ],
   "source": [
    "doc['LexicalResource']['Lexicon']['LexicalEntry'][0]['Sense']['Confidence']"
   ]
  },
  {
   "cell_type": "code",
   "execution_count": 12,
   "metadata": {},
   "outputs": [],
   "source": [
    "sentiment = {}\n",
    "for entry in doc['LexicalResource']['Lexicon']['LexicalEntry']: \n",
    "    if entry['Sense']['Confidence']['@method']=='automatic':\n",
    "        name = entry['Lemma']['@writtenForm']\n",
    "        sentiment[name] = {}\n",
    "        if entry['Sense']['Sentiment']['@polarity']=='positive':\n",
    "            sentiment[name]['pos']= entry['Sense']['Confidence']['@score']\n",
    "            sentiment[name]['neg']= 0\n",
    "            sentiment[name]['neu']= 0\n",
    "        if entry['Sense']['Sentiment']['@polarity']=='negative':\n",
    "            sentiment[name]['neg']= entry['Sense']['Confidence']['@score']\n",
    "            sentiment[name]['pos']= 0\n",
    "            sentiment[name]['neu']= 0\n",
    "        if entry['Sense']['Sentiment']['@polarity']=='neutral':\n",
    "            sentiment[name]['neu']= entry['Sense']['Confidence']['@score']\n",
    "            sentiment[name]['neg']= 0\n",
    "            sentiment[name]['pos']= 0"
   ]
  },
  {
   "cell_type": "code",
   "execution_count": 13,
   "metadata": {},
   "outputs": [],
   "source": [
    "#Now get other features\n",
    "\n",
    "def count_twitter_objs(text_string):\n",
    "    \"\"\"\n",
    "    Accepts a text string and replaces:\n",
    "    1) urls with URLHERE\n",
    "    2) lots of whitespace with one instance\n",
    "    3) mentions with MENTIONHERE\n",
    "    4) hashtags with HASHTAGHERE\n",
    "\n",
    "    This allows us to get standardized counts of urls and mentions\n",
    "    Without caring about specific people mentioned.\n",
    "    \n",
    "    Returns counts of urls, mentions, and hashtags.\n",
    "    \"\"\"\n",
    "    space_pattern = '\\s+'\n",
    "    giant_url_regex = ('http[s]?://(?:[a-zA-Z]|[0-9]|[$-_@.&+]|'\n",
    "        '[!*\\(\\),]|(?:%[0-9a-fA-F][0-9a-fA-F]))+')\n",
    "    mention_regex = '@[\\w\\-]+'\n",
    "    hashtag_regex = '#[\\w\\-]+'\n",
    "    parsed_text = re.sub(space_pattern, ' ', text_string)\n",
    "    parsed_text = re.sub(giant_url_regex, 'URLHERE', parsed_text)\n",
    "    parsed_text = re.sub(mention_regex, 'MENTIONHERE', parsed_text)\n",
    "    parsed_text = re.sub(hashtag_regex, 'HASHTAGHERE', parsed_text)\n",
    "    return(parsed_text.count('URLHERE'),parsed_text.count('MENTIONHERE'),parsed_text.count('HASHTAGHERE'))\n",
    "\n",
    "def polarity_scores(tweet):\n",
    "    pol_dict = {}\n",
    "    pol_dict['pos'] = 0\n",
    "    pol_dict['neg'] = 0\n",
    "    pol_dict['neu'] = 0\n",
    "    for word in tweet.split():\n",
    "        if word in sentiment.values():\n",
    "            pol_dict['pos'] += sentiment[word]['pos']\n",
    "            pol_dict['neg'] += sentiment[word]['neg']\n",
    "            pol_dict['neu'] += sentiment[word]['neu']\n",
    "    return pol_dict\n",
    "\n",
    "def other_features(tweet):\n",
    "    \"\"\"This function takes a string and returns a list of features.\n",
    "    These include Sentiment scores, Text and Readability scores,\n",
    "    as well as Twitter specific features\"\"\"\n",
    "    #sentiment = sentiment_analyzer.polarity_scores(tweet)\n",
    "    sentiment_score = polarity_scores(tweet)\n",
    "    words = preprocess(tweet) #Get text only\n",
    "    \n",
    "    syllables = textstat.syllable_count(words, lang='it_IT')\n",
    "    num_chars = sum(len(w) for w in words)\n",
    "    num_chars_total = len(tweet)\n",
    "    num_terms = len(tweet.split())\n",
    "    num_words = len(words.split())\n",
    "    avg_syl = round(float((syllables+0.001))/float(num_words+0.001),4)\n",
    "    num_unique_terms = len(set(words.split()))\n",
    "    \n",
    "    ###Modified FK grade, where avg words per sentence is just num words/1\n",
    "    FKRA = round(float(0.39 * float(num_words)/1.0) + float(11.8 * avg_syl) - 15.59,1)\n",
    "    ##Modified FRE score, where sentence fixed to 1\n",
    "    FRE = round(206.835 - 1.015*(float(num_words)/1.0) - (84.6*float(avg_syl)),2)\n",
    "    \n",
    "    twitter_objs = count_twitter_objs(tweet)\n",
    "    retweet = 0\n",
    "    if \"rt\" in words:\n",
    "        retweet = 1\n",
    "    #print(sentiment_score)\n",
    "    features = [FKRA, FRE,syllables, avg_syl, num_chars, num_chars_total, num_terms, num_words,\n",
    "                num_unique_terms, sentiment_score['neg'], sentiment_score['pos'], sentiment_score['neu'],\n",
    "                twitter_objs[2], twitter_objs[1],\n",
    "                twitter_objs[0], retweet]\n",
    "    #features = pandas.DataFrame(features)\n",
    "    return features\n",
    "\n",
    "def get_feature_array(tweets):\n",
    "    feats=[]\n",
    "    for t in tweets:\n",
    "        feats.append(other_features(t))\n",
    "    return np.array(feats)"
   ]
  },
  {
   "cell_type": "code",
   "execution_count": 14,
   "metadata": {},
   "outputs": [],
   "source": [
    "other_features_names = [\"FKRA\", \"FRE\",\"num_syllables\", \"avg_syl_per_word\", \"num_chars\", \"num_chars_total\", \\\n",
    "                        \"num_terms\", \"num_words\", \"num_unique_words\", \"vader neg\",\"vader pos\",\"vader neu\", \\\n",
    "                        \"num_hashtags\", \"num_mentions\", \"num_urls\", \"is_retweet\"]"
   ]
  },
  {
   "cell_type": "code",
   "execution_count": 65,
   "metadata": {},
   "outputs": [
    {
     "data": {
      "text/plain": [
       "16"
      ]
     },
     "execution_count": 65,
     "metadata": {},
     "output_type": "execute_result"
    }
   ],
   "source": [
    "len(other_features_names)"
   ]
  },
  {
   "cell_type": "code",
   "execution_count": 15,
   "metadata": {},
   "outputs": [],
   "source": [
    "feats = get_feature_array(tweets)"
   ]
  },
  {
   "cell_type": "code",
   "execution_count": 16,
   "metadata": {},
   "outputs": [
    {
     "data": {
      "text/plain": [
       "(2998, 3642)"
      ]
     },
     "execution_count": 16,
     "metadata": {},
     "output_type": "execute_result"
    }
   ],
   "source": [
    "#Now join them all up\n",
    "M = np.concatenate([tfidf,pos,feats],axis=1)\n",
    "M.shape"
   ]
  },
  {
   "cell_type": "code",
   "execution_count": 17,
   "metadata": {},
   "outputs": [],
   "source": [
    "#Finally get a list of variable names\n",
    "variables = ['']*len(vocab)\n",
    "for k,v in vocab.items():\n",
    "    variables[v] = k\n",
    "\n",
    "pos_variables = ['']*len(pos_vocab)\n",
    "for k,v in pos_vocab.items():\n",
    "    pos_variables[v] = k\n",
    "\n",
    "feature_names = variables+pos_variables+other_features_names"
   ]
  },
  {
   "cell_type": "markdown",
   "metadata": {},
   "source": [
    "# Running model"
   ]
  },
  {
   "cell_type": "code",
   "execution_count": 18,
   "metadata": {},
   "outputs": [],
   "source": [
    "X = pd.DataFrame(M)\n",
    "y = data['sentiment'].astype(int)"
   ]
  },
  {
   "cell_type": "code",
   "execution_count": 19,
   "metadata": {},
   "outputs": [],
   "source": [
    "from sklearn.model_selection import train_test_split\n",
    "X_train, X_test, y_train, y_test = train_test_split(X, y, random_state=42, test_size=0.1)"
   ]
  },
  {
   "cell_type": "code",
   "execution_count": 53,
   "metadata": {},
   "outputs": [],
   "source": [
    "from sklearn.model_selection import StratifiedKFold, GridSearchCV\n",
    "from sklearn.pipeline import Pipeline\n",
    "from sklearn.preprocessing import StandardScaler\n",
    "\n",
    "pipe = Pipeline(\n",
    "        [\n",
    "            ('normalizer', StandardScaler()),\n",
    "            ('select', SelectFromModel(RandomForestClassifier())),\n",
    "            ('model', LogisticRegression(class_weight='balanced',penalty='l2'))\n",
    "        ])\n",
    "\n",
    "param_grid = {\n",
    "    'select__estimator__n_estimators' : [5, 11, 19],\n",
    "    'select__estimator__min_samples_split' : [2, 3, 4, 5]\n",
    "}\n",
    "\n",
    "grid_search = GridSearchCV(pipe, \n",
    "                           param_grid,\n",
    "                           cv=StratifiedKFold(n_splits=5, \n",
    "                                              random_state=42).split(X_train, y_train), \n",
    "                           verbose=4)"
   ]
  },
  {
   "cell_type": "code",
   "execution_count": 54,
   "metadata": {
    "scrolled": true
   },
   "outputs": [
    {
     "name": "stdout",
     "output_type": "stream",
     "text": [
      "Fitting 5 folds for each of 12 candidates, totalling 60 fits\n",
      "[CV] select__estimator__min_samples_split=2, select__estimator__n_estimators=5 \n",
      "[CV]  select__estimator__min_samples_split=2, select__estimator__n_estimators=5, total=   1.7s\n",
      "[CV] select__estimator__min_samples_split=2, select__estimator__n_estimators=5 \n"
     ]
    },
    {
     "name": "stderr",
     "output_type": "stream",
     "text": [
      "[Parallel(n_jobs=1)]: Done   1 out of   1 | elapsed:    1.8s remaining:    0.0s\n"
     ]
    },
    {
     "name": "stdout",
     "output_type": "stream",
     "text": [
      "[CV]  select__estimator__min_samples_split=2, select__estimator__n_estimators=5, total=   1.6s\n",
      "[CV] select__estimator__min_samples_split=2, select__estimator__n_estimators=5 \n",
      "[CV]  select__estimator__min_samples_split=2, select__estimator__n_estimators=5, total=   1.8s\n",
      "[CV] select__estimator__min_samples_split=2, select__estimator__n_estimators=5 \n",
      "[CV]  select__estimator__min_samples_split=2, select__estimator__n_estimators=5, total=   1.6s\n",
      "[CV] select__estimator__min_samples_split=2, select__estimator__n_estimators=5 \n",
      "[CV]  select__estimator__min_samples_split=2, select__estimator__n_estimators=5, total=   1.5s\n",
      "[CV] select__estimator__min_samples_split=2, select__estimator__n_estimators=11 \n",
      "[CV]  select__estimator__min_samples_split=2, select__estimator__n_estimators=11, total=   2.1s\n",
      "[CV] select__estimator__min_samples_split=2, select__estimator__n_estimators=11 \n",
      "[CV]  select__estimator__min_samples_split=2, select__estimator__n_estimators=11, total=   1.7s\n",
      "[CV] select__estimator__min_samples_split=2, select__estimator__n_estimators=11 \n",
      "[CV]  select__estimator__min_samples_split=2, select__estimator__n_estimators=11, total=   2.0s\n",
      "[CV] select__estimator__min_samples_split=2, select__estimator__n_estimators=11 \n",
      "[CV]  select__estimator__min_samples_split=2, select__estimator__n_estimators=11, total=   1.6s\n",
      "[CV] select__estimator__min_samples_split=2, select__estimator__n_estimators=11 \n",
      "[CV]  select__estimator__min_samples_split=2, select__estimator__n_estimators=11, total=   2.6s\n",
      "[CV] select__estimator__min_samples_split=2, select__estimator__n_estimators=19 \n",
      "[CV]  select__estimator__min_samples_split=2, select__estimator__n_estimators=19, total=   2.4s\n",
      "[CV] select__estimator__min_samples_split=2, select__estimator__n_estimators=19 \n",
      "[CV]  select__estimator__min_samples_split=2, select__estimator__n_estimators=19, total=   2.0s\n",
      "[CV] select__estimator__min_samples_split=2, select__estimator__n_estimators=19 \n",
      "[CV]  select__estimator__min_samples_split=2, select__estimator__n_estimators=19, total=   1.9s\n",
      "[CV] select__estimator__min_samples_split=2, select__estimator__n_estimators=19 \n",
      "[CV]  select__estimator__min_samples_split=2, select__estimator__n_estimators=19, total=   1.7s\n",
      "[CV] select__estimator__min_samples_split=2, select__estimator__n_estimators=19 \n",
      "[CV]  select__estimator__min_samples_split=2, select__estimator__n_estimators=19, total=   1.9s\n",
      "[CV] select__estimator__min_samples_split=3, select__estimator__n_estimators=5 \n",
      "[CV]  select__estimator__min_samples_split=3, select__estimator__n_estimators=5, total=   1.6s\n",
      "[CV] select__estimator__min_samples_split=3, select__estimator__n_estimators=5 \n",
      "[CV]  select__estimator__min_samples_split=3, select__estimator__n_estimators=5, total=   1.3s\n",
      "[CV] select__estimator__min_samples_split=3, select__estimator__n_estimators=5 \n",
      "[CV]  select__estimator__min_samples_split=3, select__estimator__n_estimators=5, total=   1.4s\n",
      "[CV] select__estimator__min_samples_split=3, select__estimator__n_estimators=5 \n",
      "[CV]  select__estimator__min_samples_split=3, select__estimator__n_estimators=5, total=   1.7s\n",
      "[CV] select__estimator__min_samples_split=3, select__estimator__n_estimators=5 \n",
      "[CV]  select__estimator__min_samples_split=3, select__estimator__n_estimators=5, total=   1.5s\n",
      "[CV] select__estimator__min_samples_split=3, select__estimator__n_estimators=11 \n",
      "[CV]  select__estimator__min_samples_split=3, select__estimator__n_estimators=11, total=   1.7s\n",
      "[CV] select__estimator__min_samples_split=3, select__estimator__n_estimators=11 \n",
      "[CV]  select__estimator__min_samples_split=3, select__estimator__n_estimators=11, total=   1.7s\n",
      "[CV] select__estimator__min_samples_split=3, select__estimator__n_estimators=11 \n",
      "[CV]  select__estimator__min_samples_split=3, select__estimator__n_estimators=11, total=   1.8s\n",
      "[CV] select__estimator__min_samples_split=3, select__estimator__n_estimators=11 \n",
      "[CV]  select__estimator__min_samples_split=3, select__estimator__n_estimators=11, total=   2.4s\n",
      "[CV] select__estimator__min_samples_split=3, select__estimator__n_estimators=11 \n",
      "[CV]  select__estimator__min_samples_split=3, select__estimator__n_estimators=11, total=   1.7s\n",
      "[CV] select__estimator__min_samples_split=3, select__estimator__n_estimators=19 \n",
      "[CV]  select__estimator__min_samples_split=3, select__estimator__n_estimators=19, total=   2.2s\n",
      "[CV] select__estimator__min_samples_split=3, select__estimator__n_estimators=19 \n",
      "[CV]  select__estimator__min_samples_split=3, select__estimator__n_estimators=19, total=   1.8s\n",
      "[CV] select__estimator__min_samples_split=3, select__estimator__n_estimators=19 \n",
      "[CV]  select__estimator__min_samples_split=3, select__estimator__n_estimators=19, total=   2.1s\n",
      "[CV] select__estimator__min_samples_split=3, select__estimator__n_estimators=19 \n",
      "[CV]  select__estimator__min_samples_split=3, select__estimator__n_estimators=19, total=   2.6s\n",
      "[CV] select__estimator__min_samples_split=3, select__estimator__n_estimators=19 \n",
      "[CV]  select__estimator__min_samples_split=3, select__estimator__n_estimators=19, total=   1.9s\n",
      "[CV] select__estimator__min_samples_split=4, select__estimator__n_estimators=5 \n",
      "[CV]  select__estimator__min_samples_split=4, select__estimator__n_estimators=5, total=   1.6s\n",
      "[CV] select__estimator__min_samples_split=4, select__estimator__n_estimators=5 \n",
      "[CV]  select__estimator__min_samples_split=4, select__estimator__n_estimators=5, total=   1.7s\n",
      "[CV] select__estimator__min_samples_split=4, select__estimator__n_estimators=5 \n",
      "[CV]  select__estimator__min_samples_split=4, select__estimator__n_estimators=5, total=   1.7s\n",
      "[CV] select__estimator__min_samples_split=4, select__estimator__n_estimators=5 \n",
      "[CV]  select__estimator__min_samples_split=4, select__estimator__n_estimators=5, total=   1.7s\n",
      "[CV] select__estimator__min_samples_split=4, select__estimator__n_estimators=5 \n",
      "[CV]  select__estimator__min_samples_split=4, select__estimator__n_estimators=5, total=   1.5s\n",
      "[CV] select__estimator__min_samples_split=4, select__estimator__n_estimators=11 \n",
      "[CV]  select__estimator__min_samples_split=4, select__estimator__n_estimators=11, total=   2.3s\n",
      "[CV] select__estimator__min_samples_split=4, select__estimator__n_estimators=11 \n",
      "[CV]  select__estimator__min_samples_split=4, select__estimator__n_estimators=11, total=   1.9s\n",
      "[CV] select__estimator__min_samples_split=4, select__estimator__n_estimators=11 \n",
      "[CV]  select__estimator__min_samples_split=4, select__estimator__n_estimators=11, total=   1.7s\n",
      "[CV] select__estimator__min_samples_split=4, select__estimator__n_estimators=11 \n",
      "[CV]  select__estimator__min_samples_split=4, select__estimator__n_estimators=11, total=   2.2s\n",
      "[CV] select__estimator__min_samples_split=4, select__estimator__n_estimators=11 \n",
      "[CV]  select__estimator__min_samples_split=4, select__estimator__n_estimators=11, total=   1.6s\n",
      "[CV] select__estimator__min_samples_split=4, select__estimator__n_estimators=19 \n",
      "[CV]  select__estimator__min_samples_split=4, select__estimator__n_estimators=19, total=   1.8s\n",
      "[CV] select__estimator__min_samples_split=4, select__estimator__n_estimators=19 \n",
      "[CV]  select__estimator__min_samples_split=4, select__estimator__n_estimators=19, total=   1.6s\n",
      "[CV] select__estimator__min_samples_split=4, select__estimator__n_estimators=19 \n",
      "[CV]  select__estimator__min_samples_split=4, select__estimator__n_estimators=19, total=   1.9s\n",
      "[CV] select__estimator__min_samples_split=4, select__estimator__n_estimators=19 \n",
      "[CV]  select__estimator__min_samples_split=4, select__estimator__n_estimators=19, total=   1.8s\n",
      "[CV] select__estimator__min_samples_split=4, select__estimator__n_estimators=19 \n",
      "[CV]  select__estimator__min_samples_split=4, select__estimator__n_estimators=19, total=   1.8s\n",
      "[CV] select__estimator__min_samples_split=5, select__estimator__n_estimators=5 \n",
      "[CV]  select__estimator__min_samples_split=5, select__estimator__n_estimators=5, total=   1.6s\n",
      "[CV] select__estimator__min_samples_split=5, select__estimator__n_estimators=5 \n",
      "[CV]  select__estimator__min_samples_split=5, select__estimator__n_estimators=5, total=   1.6s\n",
      "[CV] select__estimator__min_samples_split=5, select__estimator__n_estimators=5 \n",
      "[CV]  select__estimator__min_samples_split=5, select__estimator__n_estimators=5, total=   1.5s\n",
      "[CV] select__estimator__min_samples_split=5, select__estimator__n_estimators=5 \n"
     ]
    },
    {
     "name": "stdout",
     "output_type": "stream",
     "text": [
      "[CV]  select__estimator__min_samples_split=5, select__estimator__n_estimators=5, total=   1.4s\n",
      "[CV] select__estimator__min_samples_split=5, select__estimator__n_estimators=5 \n",
      "[CV]  select__estimator__min_samples_split=5, select__estimator__n_estimators=5, total=   1.4s\n",
      "[CV] select__estimator__min_samples_split=5, select__estimator__n_estimators=11 \n",
      "[CV]  select__estimator__min_samples_split=5, select__estimator__n_estimators=11, total=   1.6s\n",
      "[CV] select__estimator__min_samples_split=5, select__estimator__n_estimators=11 \n",
      "[CV]  select__estimator__min_samples_split=5, select__estimator__n_estimators=11, total=   1.7s\n",
      "[CV] select__estimator__min_samples_split=5, select__estimator__n_estimators=11 \n",
      "[CV]  select__estimator__min_samples_split=5, select__estimator__n_estimators=11, total=   1.9s\n",
      "[CV] select__estimator__min_samples_split=5, select__estimator__n_estimators=11 \n",
      "[CV]  select__estimator__min_samples_split=5, select__estimator__n_estimators=11, total=   1.8s\n",
      "[CV] select__estimator__min_samples_split=5, select__estimator__n_estimators=11 \n",
      "[CV]  select__estimator__min_samples_split=5, select__estimator__n_estimators=11, total=   2.8s\n",
      "[CV] select__estimator__min_samples_split=5, select__estimator__n_estimators=19 \n",
      "[CV]  select__estimator__min_samples_split=5, select__estimator__n_estimators=19, total=   2.4s\n",
      "[CV] select__estimator__min_samples_split=5, select__estimator__n_estimators=19 \n",
      "[CV]  select__estimator__min_samples_split=5, select__estimator__n_estimators=19, total=   2.0s\n",
      "[CV] select__estimator__min_samples_split=5, select__estimator__n_estimators=19 \n",
      "[CV]  select__estimator__min_samples_split=5, select__estimator__n_estimators=19, total=   3.3s\n",
      "[CV] select__estimator__min_samples_split=5, select__estimator__n_estimators=19 \n",
      "[CV]  select__estimator__min_samples_split=5, select__estimator__n_estimators=19, total=   2.3s\n",
      "[CV] select__estimator__min_samples_split=5, select__estimator__n_estimators=19 \n",
      "[CV]  select__estimator__min_samples_split=5, select__estimator__n_estimators=19, total=   2.8s\n"
     ]
    },
    {
     "name": "stderr",
     "output_type": "stream",
     "text": [
      "[Parallel(n_jobs=1)]: Done  60 out of  60 | elapsed:  2.0min finished\n"
     ]
    }
   ],
   "source": [
    "model = grid_search.fit(X_train, y_train)"
   ]
  },
  {
   "cell_type": "markdown",
   "metadata": {},
   "source": [
    "# Look which features have been selected"
   ]
  },
  {
   "cell_type": "code",
   "execution_count": 82,
   "metadata": {
    "scrolled": false
   },
   "outputs": [
    {
     "name": "stdout",
     "output_type": "stream",
     "text": [
      "914\n"
     ]
    },
    {
     "data": {
      "text/plain": [
       "array([['abbiam', 'adess', 'afric', 'african', 'aiut', 'alberg', 'alfan',\n",
       "        'altri', 'ammazz', 'ancor', 'anni', 'anno', 'anti migrant',\n",
       "        'applic', 'arrest', 'arriv', 'assassin', 'aut', 'barcon', 'bast',\n",
       "        'bast immigr', 'bastard', 'batt', 'beh', 'bergogl', 'bisogn',\n",
       "        'buonism', 'cacc', 'calc', 'camb', 'camp', 'camp rom', 'cas',\n",
       "        'cas lor', 'cattol', 'cazz', 'ce', 'centinai', 'centr social',\n",
       "        'cerc', 'chied pizz', 'chiud', 'cib', 'circond', 'civilt',\n",
       "        'clandestin', 'cmq', 'coglion', 'com', 'contr', 'cos',\n",
       "        'criminal', 'cris', 'cristian', 'cultur', 'd', 'dann', 'dar',\n",
       "        'democraz', 'dic', 'dichiar', 'diec', 'difend', 'dir', 'diritt',\n",
       "        'discrimin', 'document', 'dop', 'due rom', 'ebre', 'ecco',\n",
       "        'emergt', 'entrar', 'eserc', 'esser', 'eur', 'europ', 'europe',\n",
       "        'facc', 'fam', 'famigl', 'fann', 'far', 'fatt', 'fecc', 'figl',\n",
       "        'fil', 'finc', 'foll', 'forz', 'fra', 'frances', 'front', 'fuor',\n",
       "        'futur', 'gabbiaopen', 'gi', 'giorn', 'gir', 'giust', 'gov',\n",
       "        'govern', 'graz', 'guerr', 'hann', 'hann fatt', 'ilgiornal it',\n",
       "        'immed', 'immigr', 'immigr clandestin', 'immigr ital', 'import',\n",
       "        'intant', 'integr', 'interess', 'invasion', 'isis', 'islam',\n",
       "        'islam religion', 'islam son', 'islamizz', 'ital',\n",
       "        'ital italian', 'italian', 'italy', 'lasc', 'lavor', 'lib',\n",
       "        'liber', 'licenz', 'lidl', 'lor', 'maggior', 'malatt',\n",
       "        'maledett', 'man', 'mand', 'mang', 'manten', 'mar', 'mass', 'me',\n",
       "        'megl', 'merd', 'merkel', 'mic', 'migrant', 'migrant ital',\n",
       "        'migrant son', 'mil', 'milion', 'militar', 'molt', 'moment',\n",
       "        'mond', 'mussulman', 'musulm', 'musulman', 'napol', 'negr',\n",
       "        'ner', 'nessun', 'nn', 'no', 'nomad', 'nostr', 'null', 'nuov',\n",
       "        'occhi', 'odi', 'oggi', 'ora', 'orma', 'pac', 'paes', 'pall',\n",
       "        'parl', 'pass', 'pd', 'pens', 'pension', 'perc', 'perc son',\n",
       "        'perd', 'person', 'polit', 'popolar', 'port', 'poss', 'prest',\n",
       "        'prim', 'problem', 'profug', 'propr', 'prostit', 'pu', 'pul',\n",
       "        'qualcun', 'quand', 'quart', 'quel', 'quell', 'quest',\n",
       "        'quest immigr', 'quest migrant', 'qui', 'quind', 'quintacolonn',\n",
       "        'radical', 'ragazz', 'razzist', 'regal', 'religion', 'rend',\n",
       "        'renz', 'resident', 'rifug', 'rimpatr', 'risors', 'rispett',\n",
       "        'rom', 'rom chied', 'rom chied pizz', 'rom com', 'rom rub',\n",
       "        'ross', 'rott', 'rovin', 'salvin', 'sann', 'sbagl', 'scabb',\n",
       "        'scritt', 'secol', 'sent', 'senz', 'ser', 'serviz', 'settiman',\n",
       "        'siam', 'situazion', 'social', 'sol', 'sold', 'somal', 'son',\n",
       "        'son islam', 'son mussulman', 'son musulman', 'son terror',\n",
       "        'sopr', 'sottomett', 'spacc', 'spieg', 'stann', 'stat', 'statu',\n",
       "        'stav', 'stell', 'stess', 'sti', 'stop immigr', 'stor', 'strad',\n",
       "        'stranier', 'stranier ital', 'stupr camp', 'sub', 'tant', 'tass',\n",
       "        'tedesc', 'terr', 'terremot', 'terror', 'terror islam',\n",
       "        'terror son', 'terror tutt', 'test', 'torin', 'torn', 'trasfer',\n",
       "        'tutt', 'tutt islam', 'tutt ital', 'tutt quest', 'tutt rom',\n",
       "        'tutt sti', 'tutt terror', 'tutt ugual', 'ue', 'ugual', 'unic',\n",
       "        'va', 'vad', 'vann', 'vergogn', 'via', 'via tutt', 'vien',\n",
       "        'virusra', 'vit', 'vogl', 'vol', 'vot', 'voxnews', 'vuol', 'x',\n",
       "        'zingar', 'AN', 'AN EA', 'AN SS', 'AN VP', 'AP', 'AP AP',\n",
       "        'AP AP SP', 'AP BN', 'AP CC', 'AP CC None', 'AP CC SP', 'AP EA',\n",
       "        'AP EA SP', 'AP FF', 'AP None', 'AP PC', 'AP PR', 'AP PR BN',\n",
       "        'AP RD SP', 'AP SP', 'AP SP AP', 'AP SP SP', 'AP SP SS', 'AP SS',\n",
       "        'AP SS AS', 'AP SS SP', 'AP VF', 'AP VIP3', 'APN', 'APN None',\n",
       "        'APN SP', 'APN SS', 'APP', 'APP SP', 'APS', 'APS SS',\n",
       "        'APS SS EA', 'APS SS SS', 'AS', 'AS AN', 'AS AS CC', 'AS AS EA',\n",
       "        'AS BN VIP3', 'AS CC', 'AS EA', 'AS None SS', 'AS PC VIP3',\n",
       "        'AS PE', 'AS PR', 'AS RD', 'AS RI', 'AS SP', 'AS SP None',\n",
       "        'AS SS', 'AS SS AS', 'AS SS EA', 'AS SS PR', 'AS SS RD',\n",
       "        'AS SS SP', 'AS SS VP', 'AS VF', 'AS VIP', 'AS VIP3', 'BN',\n",
       "        'BN EA SS', 'BN FF', 'BN None', 'BN PC', 'BN PC None',\n",
       "        'BN PC SS', 'BN PE', 'BN RD', 'BN RI', 'BN VAIP', 'BN VAIP3',\n",
       "        'BN VF', 'BN VF RD', 'BN VIP', 'BN VIP RD', 'BN VIP3',\n",
       "        'BN VIP3 SS', 'BN VIP3 VF', 'CC', 'CC AP SS', 'CC AS', 'CC BN',\n",
       "        'CC EA', 'CC EA SS', 'CC None', 'CC None None', 'CC None RD',\n",
       "        'CC PC', 'CC PC VIP3', 'CC PE', 'CC PI', 'CC RD', 'CC RD None',\n",
       "        'CC RD SP', 'CC RD SS', 'CC RI SS', 'CC SP', 'CC SP DD',\n",
       "        'CC SP RD', 'CC SS', 'CC SS AS', 'CC SS None', 'CC VAIP3',\n",
       "        'CC VF', 'CC VF RD', 'CC VIP3', 'CC VIP3 VP', 'CS', 'CS BN',\n",
       "        'CS BN VAIP3', 'CS DI', 'CS PC', 'CS PC VIP3', 'CS PI', 'CS RD',\n",
       "        'CS RD SP', 'CS VIP3', 'CS VP', 'DD', 'DD None', 'DD SP',\n",
       "        'DD SS AS', 'DI', 'DI AS', 'DI SP', 'DI SS', 'DI VP', 'EA',\n",
       "        'EA AP', 'EA APN', 'EA APS', 'EA APS SS', 'EA AS SS', 'EA FF',\n",
       "        'EA NOS SS', 'EA None', 'EA None RD', 'EA None SP', 'EA SP',\n",
       "        'EA SP AS', 'EA SP CC', 'EA SP EA', 'EA SP FF', 'EA SP None',\n",
       "        'EA SP SN', 'EA SP SS', 'EA SP VP', 'EA SS', 'EA SS AP',\n",
       "        'EA SS AS', 'EA SS CC', 'EA SS EA', 'EA SS FF', 'EA SS FS',\n",
       "        'EA SS None', 'EA SS PR', 'EA SS RD', 'EA SS SP', 'EA SS VF',\n",
       "        'EA SS VP', 'FF', 'FF CC', 'FF CS', 'FF None', 'FF SS', 'FF VP',\n",
       "        'FS', 'FS CC', 'NOS', 'None', 'None AP', 'None AP SP', 'None AS',\n",
       "        'None BN', 'None CC', 'None CC RD', 'None CC SS', 'None CS BN',\n",
       "        'None DI SP', 'None None', 'None None SS', 'None None VIP3',\n",
       "        'None PC VIP3', 'None PE', 'None PR', 'None RD', 'None RD None',\n",
       "        'None RI', 'None SN', 'None SN EA', 'None SN SP', 'None SP None',\n",
       "        'None SP RD', 'None SP SP', 'None SP SS', 'None SP VIP',\n",
       "        'None SP VIP3', 'None SS', 'None SS EA', 'None SS None',\n",
       "        'None SS SS', 'None VAIP3', 'None VIP', 'None VIP RD',\n",
       "        'None VIP3', 'None VIP3 None', 'None VIP3 SP', 'None VIP3 VF',\n",
       "        'None VP SS', 'PC', 'PC AP', 'PC CS', 'PC None', 'PC PC',\n",
       "        'PC SP', 'PC VAIP', 'PC VCP3', 'PC VIP3 None', 'PC VIP3 SN',\n",
       "        'PC VIP3 SP', 'PC VMIP3', 'PD', 'PE', 'PE CC', 'PE PC', 'PE RI',\n",
       "        'PE SP', 'PE VMIP', 'PI', 'PI AS', 'PI CS', 'PI PC', 'PI RD',\n",
       "        'PI RD SP', 'PI VIP3', 'PR', 'PR BN', 'PR BN PC', 'PR EA',\n",
       "        'PR PC', 'PR PC VIP3', 'PR RD', 'PR VAIP3', 'PR VIP3',\n",
       "        'PR VIP3 EA', 'PR VIP3 RD', 'PR VIP3 SS', 'RD', 'RD AP',\n",
       "        'RD AP None', 'RD AP RD', 'RD AP SP', 'RD APN', 'RD APN SP',\n",
       "        'RD APN SS', 'RD APP', 'RD APP None', 'RD APP SP', 'RD APS',\n",
       "        'RD APS SS', 'RD AS', 'RD FF', 'RD None', 'RD None CC',\n",
       "        'RD None SS', 'RD SN VIP3', 'RD SP', 'RD SP AP', 'RD SP BN',\n",
       "        'RD SP CC', 'RD SP CS', 'RD SP EA', 'RD SP None', 'RD SP RD',\n",
       "        'RD SP SP', 'RD SP SS', 'RD SP VF', 'RD SP VIP3', 'RD SS',\n",
       "        'RD SS BN', 'RD SS CS', 'RD SS EA', 'RD SS None', 'RD SS SP',\n",
       "        'RD SS SS', 'RD SS VIP3', 'RD VIP3', 'RD VP', 'RD VP PC',\n",
       "        'RD VP SS', 'RD VP VIP3', 'RI', 'RI AS', 'RI SN', 'RI SS',\n",
       "        'RI SS AS', 'RI SS EA', 'RI SS None', 'RI SS SS', 'RI SS VF',\n",
       "        'SA', 'SA None', 'SN', 'SN AS', 'SN AS SS', 'SN CC RD',\n",
       "        'SN CC SP', 'SN DI', 'SN FF', 'SN FS', 'SN PR', 'SN PR VIP3',\n",
       "        'SN SP', 'SN SS', 'SN SS AS', 'SN SS VIP3', 'SN SWN', 'SN VAIP3',\n",
       "        'SN VIP', 'SP AP', 'SP AP None', 'SP AP SN', 'SP AP VIP3',\n",
       "        'SP AS', 'SP AS CC', 'SP BN', 'SP CC', 'SP CC EA', 'SP CC None',\n",
       "        'SP CC PC', 'SP CC PE', 'SP CC RD', 'SP CC SP', 'SP CC SS',\n",
       "        'SP CS', 'SP DD', 'SP DD None', 'SP DD SS', 'SP EA', 'SP EA AP',\n",
       "        'SP EA APS', 'SP EA AS', 'SP EA FF', 'SP EA None', 'SP EA SP',\n",
       "        'SP EA SS', 'SP FF', 'SP FS', 'SP None', 'SP None None',\n",
       "        'SP None SP', 'SP PC', 'SP PC VAIP3', 'SP PC VIP3', 'SP PE',\n",
       "        'SP PR', 'SP PR BN', 'SP PR PC', 'SP RD', 'SP RD SP', 'SP RI',\n",
       "        'SP RI SP', 'SP RI SS', 'SP SA', 'SP SN', 'SP SP', 'SP SP CC',\n",
       "        'SP SP None', 'SP SP SS', 'SP SP VIP3', 'SP SS', 'SP SS AP',\n",
       "        'SP SS AS', 'SP SS CC', 'SP SS None', 'SP SS SN', 'SP SS SP',\n",
       "        'SP SS SS', 'SP SS VIP3', 'SP SWN', 'SP SWN VIP3', 'SP VAIP3',\n",
       "        'SP VF', 'SP VF RD', 'SP VIF3', 'SP VIP', 'SP VIP3',\n",
       "        'SP VIP3 AP', 'SP VIP3 EA', 'SP VIP3 None', 'SP VIP3 SS',\n",
       "        'SP VP', 'SP VP VF', 'SS AP', 'SS AS', 'SS AS BN', 'SS AS CC',\n",
       "        'SS AS EA', 'SS AS RD', 'SS AS SP', 'SS AS SS', 'SS AS VF',\n",
       "        'SS AS VP', 'SS BN', 'SS BN PC', 'SS CC', 'SS CC None',\n",
       "        'SS CC SP', 'SS CC VIP3', 'SS CS', 'SS CS BN', 'SS CS VIP3',\n",
       "        'SS DD', 'SS DD SS', 'SS DI', 'SS EA', 'SS EA SP', 'SS EA SS',\n",
       "        'SS FF', 'SS FS', 'SS None', 'SS PC', 'SS PD', 'SS PE', 'SS PR',\n",
       "        'SS PR RD', 'SS PR SP', 'SS PR VIP3', 'SS RD', 'SS RD APP',\n",
       "        'SS RD None', 'SS RD SN', 'SS RD SP', 'SS RD SS', 'SS RI',\n",
       "        'SS SN', 'SS SN SS', 'SS SP', 'SS SP FS', 'SS SP RD', 'SS SP SP',\n",
       "        'SS SP SS', 'SS SS', 'SS SS AS', 'SS SS PE', 'SS SS RD',\n",
       "        'SS SS SN', 'SS SS SP', 'SS SS SS', 'SS SS VF', 'SS SS VP',\n",
       "        'SS SWN', 'SS VAIP3', 'SS VCP3', 'SS VF', 'SS VF SP', 'SS VF SS',\n",
       "        'SS VIP', 'SS VIP SS', 'SS VIP3', 'SS VIP3 None', 'SS VIP3 SP',\n",
       "        'SS VP', 'SS VP RD', 'SS VP SN', 'SS VP SS', 'SS VP VIP3',\n",
       "        'SS VP VP', 'VACP3', 'VAF', 'VAF AP', 'VAF VP', 'VAIP',\n",
       "        'VAIP SS', 'VAIP3', 'VAIP3 SS', 'VAIP3 VP', 'VAIP3 VP RD',\n",
       "        'VAIP3 VP VF', 'VCP3', 'VCP3 CC', 'VCP3 RD', 'VCP3 SP', 'VDP',\n",
       "        'VDP3', 'VF', 'VF AP', 'VF BN', 'VF CC', 'VF CC VF', 'VF CS',\n",
       "        'VF DD', 'VF EA', 'VF None SS', 'VF RD', 'VF RD AP', 'VF RD SP',\n",
       "        'VF RD VP', 'VF SN', 'VF SP', 'VF SP AP', 'VF SP SP', 'VF SS',\n",
       "        'VF SS AS', 'VF SS SS', 'VF VF', 'VF VF SS', 'VF VIP3', 'VF VP',\n",
       "        'VG', 'VG SS', 'VIF', 'VIF3', 'VII3', 'VIP', 'VIP CC', 'VIP CS',\n",
       "        'VIP EA', 'VIP None', 'VIP PE', 'VIP PI', 'VIP RD', 'VIP RD SP',\n",
       "        'VIP RI', 'VIP RI SS', 'VIP SS', 'VIP SS AS', 'VIP VF', 'VIP3',\n",
       "        'VIP3 AS', 'VIP3 CC', 'VIP3 CC VIP3', 'VIP3 CS', 'VIP3 DD',\n",
       "        'VIP3 EA', 'VIP3 EA SP', 'VIP3 EA SS', 'VIP3 FF', 'VIP3 None',\n",
       "        'VIP3 None AS', 'VIP3 None None', 'VIP3 None SP', 'VIP3 None SS',\n",
       "        'VIP3 None VIP3', 'VIP3 PI', 'VIP3 RD', 'VIP3 RD AP',\n",
       "        'VIP3 RD None', 'VIP3 RD SS', 'VIP3 RI', 'VIP3 SA', 'VIP3 SN',\n",
       "        'VIP3 SP', 'VIP3 SP EA', 'VIP3 SS', 'VIP3 VF RD', 'VIP3 VG',\n",
       "        'VIP3 VP', 'VM', 'VMDP3', 'VMIP', 'VMIP VF', 'VMIP VF CS',\n",
       "        'VMIP VF SS', 'VMIP3', 'VMIP3 RD', 'VMIP3 VF', 'VMIP3 VF RD',\n",
       "        'VP', 'VP CC SP', 'VP CS VIP3', 'VP DD', 'VP EA', 'VP FF',\n",
       "        'VP None', 'VP PR', 'VP RD', 'VP RD SP', 'VP RD SS', 'VP RD VP',\n",
       "        'VP SN', 'VP SP', 'VP SP AP', 'VP SS', 'VP VAIP3', 'VP VCP3',\n",
       "        'VP VF', 'VP VF RD', 'VP VF SP', 'FKRA', 'FRE', 'num_syllables',\n",
       "        'avg_syl_per_word', 'num_chars', 'num_chars_total', 'num_terms',\n",
       "        'num_words', 'num_unique_words', 'num_hashtags', 'num_mentions',\n",
       "        'num_urls', 'is_retweet']], dtype='<U22')"
      ]
     },
     "execution_count": 82,
     "metadata": {},
     "output_type": "execute_result"
    }
   ],
   "source": [
    "fs = grid_search.best_estimator_.named_steps['select']\n",
    "\n",
    "feature_names_example = vectorizer.get_feature_names() + pos_vectorizer.get_feature_names() + other_features_names\n",
    "\n",
    "selected_features = fs.transform([feature_names_example])\n",
    "\n",
    "print(len(selected_features[0]))\n",
    "selected_features"
   ]
  },
  {
   "cell_type": "code",
   "execution_count": 55,
   "metadata": {},
   "outputs": [],
   "source": [
    "y_preds = model.predict(X_test)"
   ]
  },
  {
   "cell_type": "code",
   "execution_count": 56,
   "metadata": {},
   "outputs": [
    {
     "name": "stdout",
     "output_type": "stream",
     "text": [
      "             precision    recall  f1-score   support\n",
      "\n",
      "          0       0.84      0.81      0.83       201\n",
      "          1       0.64      0.69      0.66        99\n",
      "\n",
      "avg / total       0.77      0.77      0.77       300\n",
      "\n"
     ]
    }
   ],
   "source": [
    "report = classification_report( y_test, y_preds )\n",
    "print(report)"
   ]
  },
  {
   "cell_type": "code",
   "execution_count": 57,
   "metadata": {},
   "outputs": [
    {
     "data": {
      "image/png": "[encoded data removed]",
      "text/plain": [
       "<Figure size 360x360 with 1 Axes>"
      ]
     },
     "metadata": {},
     "output_type": "display_data"
    }
   ],
   "source": [
    "from sklearn.metrics import confusion_matrix\n",
    "confusion_matrix = confusion_matrix(y_test,y_preds)\n",
    "matrix_proportions = np.zeros((2,2))\n",
    "for i in range(0,2):\n",
    "    matrix_proportions[i,:] = confusion_matrix[i,:]/float(confusion_matrix[i,:].sum())\n",
    "names=['Hate','Neutral']\n",
    "confusion_df = pd.DataFrame(matrix_proportions, index=names,columns=names)\n",
    "plt.figure(figsize=(5,5))\n",
    "seaborn.heatmap(confusion_df,annot=True,annot_kws={\"size\": 12},cmap='gist_gray_r',cbar=False, square=True,fmt='.2f')\n",
    "plt.ylabel(r'True categories',fontsize=14)\n",
    "plt.xlabel(r'Predicted categories',fontsize=14)\n",
    "plt.tick_params(labelsize=12)\n",
    "\n",
    "#Uncomment line below if you want to save the output\n",
    "#plt.savefig('confusion.pdf')"
   ]
  },
  {
   "cell_type": "code",
   "execution_count": 25,
   "metadata": {},
   "outputs": [
    {
     "data": {
      "text/plain": [
       "<matplotlib.axes._subplots.AxesSubplot at 0x7f504c8f0278>"
      ]
     },
     "execution_count": 25,
     "metadata": {},
     "output_type": "execute_result"
    },
    {
     "data": {
      "image/png": "[encoded data removed]",
      "text/plain": [
       "<Figure size 432x288 with 1 Axes>"
      ]
     },
     "metadata": {},
     "output_type": "display_data"
    }
   ],
   "source": [
    "y.hist()"
   ]
  },
  {
   "cell_type": "code",
   "execution_count": 26,
   "metadata": {},
   "outputs": [
    {
     "data": {
      "text/plain": [
       "<matplotlib.axes._subplots.AxesSubplot at 0x7f504c3ff9b0>"
      ]
     },
     "execution_count": 26,
     "metadata": {},
     "output_type": "execute_result"
    },
    {
     "data": {
      "image/png": "[encoded data removed]",
      "text/plain": [
       "<Figure size 432x288 with 1 Axes>"
      ]
     },
     "metadata": {},
     "output_type": "display_data"
    }
   ],
   "source": [
    "pd.Series(y_preds).hist()"
   ]
  },
  {
   "cell_type": "code",
   "execution_count": 27,
   "metadata": {},
   "outputs": [
    {
     "name": "stdout",
     "output_type": "stream",
     "text": [
      "3 *** has been classified as  0 and should be  1\n",
      "6 *** has been classified as  0 and should be  1\n",
      "7 *** has been classified as  1 and should be  0\n",
      "8 *** has been classified as  1 and should be  0\n",
      "9 *** has been classified as  1 and should be  0\n",
      "15 *** has been classified as  1 and should be  0\n",
      "18 *** has been classified as  1 and should be  0\n",
      "19 *** has been classified as  0 and should be  1\n",
      "21 *** has been classified as  1 and should be  0\n",
      "23 *** has been classified as  0 and should be  1\n",
      "24 *** has been classified as  1 and should be  0\n",
      "39 *** has been classified as  0 and should be  1\n",
      "40 *** has been classified as  0 and should be  1\n",
      "50 *** has been classified as  1 and should be  0\n",
      "51 *** has been classified as  1 and should be  0\n",
      "55 *** has been classified as  1 and should be  0\n",
      "58 *** has been classified as  0 and should be  1\n",
      "60 *** has been classified as  1 and should be  0\n",
      "63 *** has been classified as  1 and should be  0\n",
      "70 *** has been classified as  0 and should be  1\n",
      "72 *** has been classified as  1 and should be  0\n",
      "75 *** has been classified as  1 and should be  0\n",
      "79 *** has been classified as  0 and should be  1\n",
      "86 *** has been classified as  1 and should be  0\n",
      "88 *** has been classified as  1 and should be  0\n",
      "91 *** has been classified as  0 and should be  1\n",
      "95 *** has been classified as  1 and should be  0\n",
      "106 *** has been classified as  1 and should be  0\n",
      "108 *** has been classified as  0 and should be  1\n",
      "113 *** has been classified as  1 and should be  0\n",
      "115 *** has been classified as  1 and should be  0\n",
      "117 *** has been classified as  1 and should be  0\n",
      "123 *** has been classified as  0 and should be  1\n",
      "125 *** has been classified as  1 and should be  0\n",
      "129 *** has been classified as  1 and should be  0\n",
      "133 *** has been classified as  1 and should be  0\n",
      "137 *** has been classified as  1 and should be  0\n",
      "138 *** has been classified as  1 and should be  0\n",
      "140 *** has been classified as  1 and should be  0\n",
      "141 *** has been classified as  0 and should be  1\n",
      "146 *** has been classified as  1 and should be  0\n",
      "147 *** has been classified as  1 and should be  0\n",
      "148 *** has been classified as  1 and should be  0\n",
      "149 *** has been classified as  1 and should be  0\n",
      "150 *** has been classified as  0 and should be  1\n",
      "152 *** has been classified as  1 and should be  0\n",
      "159 *** has been classified as  0 and should be  1\n",
      "163 *** has been classified as  1 and should be  0\n",
      "167 *** has been classified as  0 and should be  1\n",
      "185 *** has been classified as  0 and should be  1\n",
      "188 *** has been classified as  1 and should be  0\n",
      "201 *** has been classified as  1 and should be  0\n",
      "202 *** has been classified as  1 and should be  0\n",
      "206 *** has been classified as  1 and should be  0\n",
      "207 *** has been classified as  1 and should be  0\n",
      "210 *** has been classified as  1 and should be  0\n",
      "211 *** has been classified as  1 and should be  0\n",
      "214 *** has been classified as  0 and should be  1\n",
      "220 *** has been classified as  1 and should be  0\n",
      "222 *** has been classified as  1 and should be  0\n",
      "230 *** has been classified as  1 and should be  0\n",
      "232 *** has been classified as  0 and should be  1\n",
      "239 *** has been classified as  1 and should be  0\n",
      "242 *** has been classified as  1 and should be  0\n",
      "244 *** has been classified as  1 and should be  0\n",
      "246 *** has been classified as  0 and should be  1\n",
      "248 *** has been classified as  0 and should be  1\n",
      "253 *** has been classified as  0 and should be  1\n",
      "259 *** has been classified as  1 and should be  0\n",
      "262 *** has been classified as  1 and should be  0\n",
      "266 *** has been classified as  1 and should be  0\n",
      "268 *** has been classified as  1 and should be  0\n",
      "274 *** has been classified as  1 and should be  0\n",
      "276 *** has been classified as  1 and should be  0\n",
      "284 *** has been classified as  1 and should be  0\n",
      "291 *** has been classified as  1 and should be  0\n",
      "298 *** has been classified as  0 and should be  1\n",
      "299 *** has been classified as  1 and should be  0\n"
     ]
    }
   ],
   "source": [
    "#get wrong prediction\n",
    "\n",
    "for text, prediction, label in zip(X_test, y_preds, y_test):\n",
    "    if prediction != label:\n",
    "        print(text, '*** has been classified as ', prediction, 'and should be ', label) \n"
   ]
  }
 ],
 "metadata": {
  "kernelspec": {
   "display_name": "Python 3",
   "language": "python",
   "name": "python3"
  },
  "language_info": {
   "codemirror_mode": {
    "name": "ipython",
    "version": 3
   },
   "file_extension": ".py",
   "mimetype": "text/x-python",
   "name": "python",
   "nbconvert_exporter": "python",
   "pygments_lexer": "ipython3",
   "version": "3.6.6"
  }
 },
 "nbformat": 4,
 "nbformat_minor": 2
}
